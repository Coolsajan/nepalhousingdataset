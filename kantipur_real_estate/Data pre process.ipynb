{
 "cells": [
  {
   "cell_type": "code",
   "execution_count": 1,
   "id": "fe1b701f-1b75-4523-af17-cfeea0096254",
   "metadata": {},
   "outputs": [],
   "source": [
    "#importing libaries.\n",
    "import pandas as pd\n"
   ]
  },
  {
   "cell_type": "code",
   "execution_count": 2,
   "id": "f9bc8267-ff49-450e-a954-e0312889fff9",
   "metadata": {},
   "outputs": [],
   "source": [
    "#loading dataset\n",
    "df_kantipur=pd.read_csv(\"kantipur_real_estate_raw.csv\")"
   ]
  },
  {
   "cell_type": "code",
   "execution_count": 5,
   "id": "765290c9-080d-4dc4-8c95-408feb9de410",
   "metadata": {},
   "outputs": [
    {
     "data": {
      "text/html": [
       "<div>\n",
       "<style scoped>\n",
       "    .dataframe tbody tr th:only-of-type {\n",
       "        vertical-align: middle;\n",
       "    }\n",
       "\n",
       "    .dataframe tbody tr th {\n",
       "        vertical-align: top;\n",
       "    }\n",
       "\n",
       "    .dataframe thead th {\n",
       "        text-align: right;\n",
       "    }\n",
       "</style>\n",
       "<table border=\"1\" class=\"dataframe\">\n",
       "  <thead>\n",
       "    <tr style=\"text-align: right;\">\n",
       "      <th></th>\n",
       "      <th>price</th>\n",
       "      <th>location</th>\n",
       "      <th>land_area</th>\n",
       "      <th>no_of_flat</th>\n",
       "      <th>no_of_bedroom</th>\n",
       "      <th>no_of_bathroom</th>\n",
       "      <th>no_of_livingroom</th>\n",
       "      <th>no_of_kitchen</th>\n",
       "      <th>furnishing</th>\n",
       "      <th>facing</th>\n",
       "      <th>road_size</th>\n",
       "    </tr>\n",
       "  </thead>\n",
       "  <tbody>\n",
       "    <tr>\n",
       "      <th>344</th>\n",
       "      <td>Rs. 3 Crore 80 Lakh (Negotiable)</td>\n",
       "      <td>Location: Hattiban</td>\n",
       "      <td>Land Area: 4 Aana 2 Paisa Above</td>\n",
       "      <td>Floors: 2.5</td>\n",
       "      <td>Bedrooms: 5</td>\n",
       "      <td>Bathrooms: 5</td>\n",
       "      <td>Living rooms: 1</td>\n",
       "      <td>Kitchens: 1</td>\n",
       "      <td>Furnishing Type: Semi Furnished</td>\n",
       "      <td>Face Towards: East/West Faced</td>\n",
       "      <td>20 Feet</td>\n",
       "    </tr>\n",
       "    <tr>\n",
       "      <th>1234</th>\n",
       "      <td>Rs. 1 Crore 55 Lakh</td>\n",
       "      <td>Location: Kageshwori Manohara Dachhi</td>\n",
       "      <td>Land Area: 0-3-1-0</td>\n",
       "      <td>Floors: 2.5</td>\n",
       "      <td>Bedrooms: 5</td>\n",
       "      <td>Bathrooms: 3</td>\n",
       "      <td>Living rooms: 3</td>\n",
       "      <td>Kitchens: 3</td>\n",
       "      <td>Furnishing Type: Not Furnishing</td>\n",
       "      <td>Face Towards: East/South faced</td>\n",
       "      <td>16 Feet</td>\n",
       "    </tr>\n",
       "    <tr>\n",
       "      <th>628</th>\n",
       "      <td>Rs. 1 Crore 90 Lakh (Negotiable)</td>\n",
       "      <td>Location: Mahankal Oralo Chowk</td>\n",
       "      <td>Land Area: 0-2-2-0</td>\n",
       "      <td>Floors: 2.5</td>\n",
       "      <td>Bedrooms: 7</td>\n",
       "      <td>Bathrooms: 3</td>\n",
       "      <td>Living rooms: 1</td>\n",
       "      <td>Kitchens: 3</td>\n",
       "      <td>Furnishing Type: Semi Furnished</td>\n",
       "      <td>Face Towards: South/East Faced</td>\n",
       "      <td>20 Feet</td>\n",
       "    </tr>\n",
       "    <tr>\n",
       "      <th>894</th>\n",
       "      <td>Rs. 2 Crore 50 Lakh (Negotiable)</td>\n",
       "      <td>Location: Indreni Pool</td>\n",
       "      <td>Land Area: 0-2-3-3</td>\n",
       "      <td>Floors: 2.5</td>\n",
       "      <td>Bedrooms: 4</td>\n",
       "      <td>Bathrooms: 4</td>\n",
       "      <td>Living rooms: 3</td>\n",
       "      <td>Kitchens: 3</td>\n",
       "      <td>Furnishing Type: Semi Furnishing</td>\n",
       "      <td>Face Towards: South Faced</td>\n",
       "      <td>12 Feet</td>\n",
       "    </tr>\n",
       "    <tr>\n",
       "      <th>1198</th>\n",
       "      <td>Rs. 4 Crore 25 Lakh</td>\n",
       "      <td>Location: Balaju Height</td>\n",
       "      <td>Land Area: 0-5-0-0</td>\n",
       "      <td>Floors: 2.5</td>\n",
       "      <td>Bedrooms: 7</td>\n",
       "      <td>Bathrooms: 4</td>\n",
       "      <td>Living rooms: 2</td>\n",
       "      <td>Kitchens: 1</td>\n",
       "      <td>Furnishing Type: Semi Furnishing</td>\n",
       "      <td>Face Towards: East Faced</td>\n",
       "      <td>13 Feet</td>\n",
       "    </tr>\n",
       "  </tbody>\n",
       "</table>\n",
       "</div>"
      ],
      "text/plain": [
       "                                 price                               location  \\\n",
       "344   Rs. 3 Crore 80 Lakh (Negotiable)                    Location: Hattiban    \n",
       "1234               Rs. 1 Crore 55 Lakh  Location: Kageshwori Manohara Dachhi    \n",
       "628   Rs. 1 Crore 90 Lakh (Negotiable)        Location: Mahankal Oralo Chowk    \n",
       "894   Rs. 2 Crore 50 Lakh (Negotiable)                Location: Indreni Pool    \n",
       "1198               Rs. 4 Crore 25 Lakh               Location: Balaju Height    \n",
       "\n",
       "                             land_area    no_of_flat no_of_bedroom  \\\n",
       "344   Land Area: 4 Aana 2 Paisa Above   Floors: 2.5   Bedrooms: 5    \n",
       "1234               Land Area: 0-3-1-0   Floors: 2.5   Bedrooms: 5    \n",
       "628                Land Area: 0-2-2-0   Floors: 2.5   Bedrooms: 7    \n",
       "894                Land Area: 0-2-3-3   Floors: 2.5   Bedrooms: 4    \n",
       "1198               Land Area: 0-5-0-0   Floors: 2.5   Bedrooms: 7    \n",
       "\n",
       "     no_of_bathroom  no_of_livingroom no_of_kitchen  \\\n",
       "344   Bathrooms: 5   Living rooms: 1   Kitchens: 1    \n",
       "1234  Bathrooms: 3   Living rooms: 3   Kitchens: 3    \n",
       "628   Bathrooms: 3   Living rooms: 1   Kitchens: 3    \n",
       "894   Bathrooms: 4   Living rooms: 3   Kitchens: 3    \n",
       "1198  Bathrooms: 4   Living rooms: 2   Kitchens: 1    \n",
       "\n",
       "                             furnishing                           facing  \\\n",
       "344    Furnishing Type: Semi Furnished    Face Towards: East/West Faced    \n",
       "1234   Furnishing Type: Not Furnishing   Face Towards: East/South faced    \n",
       "628    Furnishing Type: Semi Furnished   Face Towards: South/East Faced    \n",
       "894   Furnishing Type: Semi Furnishing        Face Towards: South Faced    \n",
       "1198  Furnishing Type: Semi Furnishing         Face Towards: East Faced    \n",
       "\n",
       "     road_size  \n",
       "344   20 Feet   \n",
       "1234  16 Feet   \n",
       "628   20 Feet   \n",
       "894   12 Feet   \n",
       "1198  13 Feet   "
      ]
     },
     "execution_count": 5,
     "metadata": {},
     "output_type": "execute_result"
    }
   ],
   "source": [
    "df_kantipur.sample(5)"
   ]
  },
  {
   "cell_type": "code",
   "execution_count": 6,
   "id": "7db77e86-4e4f-490f-bdf9-22e5f133a22e",
   "metadata": {},
   "outputs": [
    {
     "name": "stdout",
     "output_type": "stream",
     "text": [
      "<class 'pandas.core.frame.DataFrame'>\n",
      "RangeIndex: 1264 entries, 0 to 1263\n",
      "Data columns (total 11 columns):\n",
      " #   Column            Non-Null Count  Dtype \n",
      "---  ------            --------------  ----- \n",
      " 0   price             1264 non-null   object\n",
      " 1   location          1264 non-null   object\n",
      " 2   land_area         1264 non-null   object\n",
      " 3   no_of_flat        1264 non-null   object\n",
      " 4   no_of_bedroom     1264 non-null   object\n",
      " 5   no_of_bathroom    1264 non-null   object\n",
      " 6   no_of_livingroom  1264 non-null   object\n",
      " 7   no_of_kitchen     1264 non-null   object\n",
      " 8   furnishing        1264 non-null   object\n",
      " 9   facing            1264 non-null   object\n",
      " 10  road_size         1264 non-null   object\n",
      "dtypes: object(11)\n",
      "memory usage: 108.8+ KB\n"
     ]
    }
   ],
   "source": [
    "df_kantipur.info()"
   ]
  },
  {
   "cell_type": "code",
   "execution_count": 14,
   "id": "0497d1b7-69ab-4ee4-8cd6-a0678f622971",
   "metadata": {},
   "outputs": [
    {
     "data": {
      "text/plain": [
       "array(['Location:'], dtype=object)"
      ]
     },
     "execution_count": 14,
     "metadata": {},
     "output_type": "execute_result"
    }
   ],
   "source": [
    "print(df_kantipur['location'].str.split().str[0].unique())\n",
    "print(df_kantipur['land_area'].str.split().str[0].unique())\n",
    "print(df_kantipur['no_of_flat'].str.split().str[0].unique())\n",
    "print(df_kantipur['location'].str.split().str[0].unique())\n",
    "print(df_kantipur['location'].str.split().str[0].unique())\n"
   ]
  },
  {
   "cell_type": "code",
   "execution_count": null,
   "id": "de56af7f-80fa-4ca0-94eb-ca5dd1380520",
   "metadata": {},
   "outputs": [],
   "source": []
  }
 ],
 "metadata": {
  "kernelspec": {
   "display_name": "Python 3 (ipykernel)",
   "language": "python",
   "name": "python3"
  },
  "language_info": {
   "codemirror_mode": {
    "name": "ipython",
    "version": 3
   },
   "file_extension": ".py",
   "mimetype": "text/x-python",
   "name": "python",
   "nbconvert_exporter": "python",
   "pygments_lexer": "ipython3",
   "version": "3.12.6"
  }
 },
 "nbformat": 4,
 "nbformat_minor": 5
}
