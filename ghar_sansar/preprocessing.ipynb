{
 "cells": [
  {
   "cell_type": "code",
   "execution_count": 1,
   "id": "ce705bb0-f0ac-4f81-ba5e-4bacc23acdeb",
   "metadata": {},
   "outputs": [],
   "source": [
    "#importing libaries\n",
    "import pandas as pd\n",
    "import numpy as np "
   ]
  },
  {
   "cell_type": "code",
   "execution_count": 2,
   "id": "a12425ac-7f16-4c24-a4c9-665292a4a37f",
   "metadata": {},
   "outputs": [
    {
     "data": {
      "text/html": [
       "<div>\n",
       "<style scoped>\n",
       "    .dataframe tbody tr th:only-of-type {\n",
       "        vertical-align: middle;\n",
       "    }\n",
       "\n",
       "    .dataframe tbody tr th {\n",
       "        vertical-align: top;\n",
       "    }\n",
       "\n",
       "    .dataframe thead th {\n",
       "        text-align: right;\n",
       "    }\n",
       "</style>\n",
       "<table border=\"1\" class=\"dataframe\">\n",
       "  <thead>\n",
       "    <tr style=\"text-align: right;\">\n",
       "      <th></th>\n",
       "      <th>price</th>\n",
       "      <th>location</th>\n",
       "      <th>land_size</th>\n",
       "      <th>no_of_flat</th>\n",
       "      <th>no_of_bedroom</th>\n",
       "      <th>no_of_bathroom</th>\n",
       "      <th>no_of_living</th>\n",
       "      <th>no_of_kitchen</th>\n",
       "      <th>facing</th>\n",
       "      <th>road_size</th>\n",
       "    </tr>\n",
       "  </thead>\n",
       "  <tbody>\n",
       "    <tr>\n",
       "      <th>229</th>\n",
       "      <td>Rs NPR 4.2 CR/-</td>\n",
       "      <td>location: Kathmandu,Bafal</td>\n",
       "      <td>5 Aana</td>\n",
       "      <td>NaN</td>\n",
       "      <td>4</td>\n",
       "      <td>4</td>\n",
       "      <td>1</td>\n",
       "      <td>1</td>\n",
       "      <td>South/East</td>\n",
       "      <td>11 Feets</td>\n",
       "    </tr>\n",
       "    <tr>\n",
       "      <th>132</th>\n",
       "      <td>Rs 4 Crore 20 Lakh</td>\n",
       "      <td>location: Imadol,Gauri Sankar</td>\n",
       "      <td>4 Anna 1 Paisa</td>\n",
       "      <td>Discover your dream home in the prime location...</td>\n",
       "      <td>6</td>\n",
       "      <td>4</td>\n",
       "      <td>2</td>\n",
       "      <td>2</td>\n",
       "      <td>SOUTH</td>\n",
       "      <td>13 Feet</td>\n",
       "    </tr>\n",
       "    <tr>\n",
       "      <th>235</th>\n",
       "      <td>Rs NPR 2.25CR/-</td>\n",
       "      <td>location: Kathmandu,Sitapaila,Towkhel</td>\n",
       "      <td>0.3.3.0 Aana</td>\n",
       "      <td>NaN</td>\n",
       "      <td>4</td>\n",
       "      <td>4</td>\n",
       "      <td>1</td>\n",
       "      <td>1</td>\n",
       "      <td>West</td>\n",
       "      <td>13 feets</td>\n",
       "    </tr>\n",
       "    <tr>\n",
       "      <th>366</th>\n",
       "      <td>Rs 22,000,000</td>\n",
       "      <td>location: Kathmandu, Sitapaila</td>\n",
       "      <td>3 Anna</td>\n",
       "      <td>New house built with long lasting and duriable...</td>\n",
       "      <td>6</td>\n",
       "      <td>3</td>\n",
       "      <td>1</td>\n",
       "      <td>2</td>\n",
       "      <td>NORTH</td>\n",
       "      <td>16 Feets</td>\n",
       "    </tr>\n",
       "    <tr>\n",
       "      <th>212</th>\n",
       "      <td>Rs NPR 2.65CR</td>\n",
       "      <td>location: Imadol,Bojho Pokhari</td>\n",
       "      <td>3.1.1Anna</td>\n",
       "      <td>NaN</td>\n",
       "      <td>5</td>\n",
       "      <td>3</td>\n",
       "      <td>2</td>\n",
       "      <td>2</td>\n",
       "      <td>SOUTH-WEST</td>\n",
       "      <td>13 Feets</td>\n",
       "    </tr>\n",
       "  </tbody>\n",
       "</table>\n",
       "</div>"
      ],
      "text/plain": [
       "                  price                               location  \\\n",
       "229     Rs NPR 4.2 CR/-              location: Kathmandu,Bafal   \n",
       "132  Rs 4 Crore 20 Lakh          location: Imadol,Gauri Sankar   \n",
       "235     Rs NPR 2.25CR/-  location: Kathmandu,Sitapaila,Towkhel   \n",
       "366       Rs 22,000,000         location: Kathmandu, Sitapaila   \n",
       "212       Rs NPR 2.65CR         location: Imadol,Bojho Pokhari   \n",
       "\n",
       "          land_size                                         no_of_flat  \\\n",
       "229          5 Aana                                                NaN   \n",
       "132  4 Anna 1 Paisa  Discover your dream home in the prime location...   \n",
       "235    0.3.3.0 Aana                                                NaN   \n",
       "366          3 Anna  New house built with long lasting and duriable...   \n",
       "212       3.1.1Anna                                                NaN   \n",
       "\n",
       "     no_of_bedroom  no_of_bathroom  no_of_living  no_of_kitchen      facing  \\\n",
       "229              4               4             1              1  South/East   \n",
       "132              6               4             2              2       SOUTH   \n",
       "235              4               4             1              1        West   \n",
       "366              6               3             1              2       NORTH   \n",
       "212              5               3             2              2  SOUTH-WEST   \n",
       "\n",
       "    road_size  \n",
       "229  11 Feets  \n",
       "132   13 Feet  \n",
       "235  13 feets  \n",
       "366  16 Feets  \n",
       "212  13 Feets  "
      ]
     },
     "execution_count": 2,
     "metadata": {},
     "output_type": "execute_result"
    }
   ],
   "source": [
    "#loading the working dataset\n",
    "df_gharsansar=pd.read_csv(r'gharsansar_raw_test.csv')\n",
    "df_gharsansar.sample(5)"
   ]
  },
  {
   "cell_type": "code",
   "execution_count": 3,
   "id": "43da71cb-3da7-4425-b125-bbc68e3045a1",
   "metadata": {},
   "outputs": [
    {
     "name": "stdout",
     "output_type": "stream",
     "text": [
      "<class 'pandas.core.frame.DataFrame'>\n",
      "RangeIndex: 459 entries, 0 to 458\n",
      "Data columns (total 10 columns):\n",
      " #   Column          Non-Null Count  Dtype \n",
      "---  ------          --------------  ----- \n",
      " 0   price           459 non-null    object\n",
      " 1   location        459 non-null    object\n",
      " 2   land_size       459 non-null    object\n",
      " 3   no_of_flat      379 non-null    object\n",
      " 4   no_of_bedroom   459 non-null    int64 \n",
      " 5   no_of_bathroom  459 non-null    int64 \n",
      " 6   no_of_living    459 non-null    int64 \n",
      " 7   no_of_kitchen   459 non-null    int64 \n",
      " 8   facing          459 non-null    object\n",
      " 9   road_size       459 non-null    object\n",
      "dtypes: int64(4), object(6)\n",
      "memory usage: 36.0+ KB\n"
     ]
    }
   ],
   "source": [
    "df_gharsansar.info()"
   ]
  },
  {
   "cell_type": "code",
   "execution_count": 4,
   "id": "dae7e304-a280-4618-ad5d-fd0c2c548f7d",
   "metadata": {},
   "outputs": [
    {
     "data": {
      "text/plain": [
       "0      Rs NPR 25,000,000/-\n",
       "1      Rs NPR 21,500,000/-\n",
       "2      Rs NPR 33,000,000/-\n",
       "3      Rs NPR 25,000,000/-\n",
       "4      Rs NPR 70,000,000/-\n",
       "              ...         \n",
       "454          Rs 34,000,000\n",
       "455            Rs 55000000\n",
       "456         Rs 5,25,00,000\n",
       "457         Rs 3,00,00,000\n",
       "458          Rs 30,000,000\n",
       "Name: price, Length: 459, dtype: object"
      ]
     },
     "execution_count": 4,
     "metadata": {},
     "output_type": "execute_result"
    }
   ],
   "source": [
    "df_gharsansar['price']"
   ]
  },
  {
   "cell_type": "code",
   "execution_count": null,
   "id": "44895834-f938-440b-bb77-5559790a0efb",
   "metadata": {},
   "outputs": [],
   "source": []
  }
 ],
 "metadata": {
  "kernelspec": {
   "display_name": "Python 3 (ipykernel)",
   "language": "python",
   "name": "python3"
  },
  "language_info": {
   "codemirror_mode": {
    "name": "ipython",
    "version": 3
   },
   "file_extension": ".py",
   "mimetype": "text/x-python",
   "name": "python",
   "nbconvert_exporter": "python",
   "pygments_lexer": "ipython3",
   "version": "3.12.6"
  }
 },
 "nbformat": 4,
 "nbformat_minor": 5
}
