{
 "cells": [
  {
   "cell_type": "code",
   "execution_count": 1,
   "id": "55b35f07-0147-4b76-a24d-8e91d3242014",
   "metadata": {},
   "outputs": [],
   "source": [
    "#importing libaries\n",
    "import pandas as pd\n",
    "import numpy as np"
   ]
  },
  {
   "cell_type": "code",
   "execution_count": 2,
   "id": "34b69044-d333-478d-912c-38432a9ddfe5",
   "metadata": {},
   "outputs": [],
   "source": [
    "#Importing dataset\n",
    "df_ghargaderi=pd.read_csv('ghargaderi_raw.csv')"
   ]
  },
  {
   "cell_type": "code",
   "execution_count": 3,
   "id": "50280777-0c3e-44f8-a59b-2349ad8d210b",
   "metadata": {},
   "outputs": [
    {
     "data": {
      "text/html": [
       "<div>\n",
       "<style scoped>\n",
       "    .dataframe tbody tr th:only-of-type {\n",
       "        vertical-align: middle;\n",
       "    }\n",
       "\n",
       "    .dataframe tbody tr th {\n",
       "        vertical-align: top;\n",
       "    }\n",
       "\n",
       "    .dataframe thead th {\n",
       "        text-align: right;\n",
       "    }\n",
       "</style>\n",
       "<table border=\"1\" class=\"dataframe\">\n",
       "  <thead>\n",
       "    <tr style=\"text-align: right;\">\n",
       "      <th></th>\n",
       "      <th>price</th>\n",
       "      <th>location</th>\n",
       "      <th>land_area</th>\n",
       "      <th>no_of_flat</th>\n",
       "      <th>no_of_bedroom</th>\n",
       "      <th>no_of_bathroom</th>\n",
       "      <th>no_of_livingroom</th>\n",
       "      <th>no_of_kitchen</th>\n",
       "      <th>no_of_parking</th>\n",
       "    </tr>\n",
       "  </thead>\n",
       "  <tbody>\n",
       "    <tr>\n",
       "      <th>304</th>\n",
       "      <td>Price : 2,80,00,000</td>\n",
       "      <td>Pepsicola,Kathmandu</td>\n",
       "      <td>Land area : 2 Aana 2 Paisa</td>\n",
       "      <td>No of Flat : 3.5</td>\n",
       "      <td>Bedroom : 5</td>\n",
       "      <td>Bathroom : 4</td>\n",
       "      <td>Living Room :2</td>\n",
       "      <td>Kitchen : 2</td>\n",
       "      <td>Parking :undefined</td>\n",
       "    </tr>\n",
       "    <tr>\n",
       "      <th>1203</th>\n",
       "      <td>Price : 1,55,00,000</td>\n",
       "      <td>Tikathali,Lalitpur</td>\n",
       "      <td>Land area : 3 Aana</td>\n",
       "      <td>No of Flat : 1.5</td>\n",
       "      <td>Bedroom : 2</td>\n",
       "      <td>Bathroom : 1</td>\n",
       "      <td>Living Room :1</td>\n",
       "      <td>Kitchen : 1</td>\n",
       "      <td>Parking :undefined</td>\n",
       "    </tr>\n",
       "    <tr>\n",
       "      <th>227</th>\n",
       "      <td>Price : 5,00,00,000</td>\n",
       "      <td>Basundhara,Kathmandu</td>\n",
       "      <td>Land area : 5 Aana</td>\n",
       "      <td>No of Flat : 2.5</td>\n",
       "      <td>Bedroom : 5</td>\n",
       "      <td>Bathroom : 4</td>\n",
       "      <td>Living Room :2</td>\n",
       "      <td>Kitchen : 2</td>\n",
       "      <td>Parking :undefined</td>\n",
       "    </tr>\n",
       "    <tr>\n",
       "      <th>912</th>\n",
       "      <td>Price : 3,19,99,999</td>\n",
       "      <td>Imadol,Lalitpur</td>\n",
       "      <td>Land area : 3Ana 2Dam</td>\n",
       "      <td>No of Flat : 3</td>\n",
       "      <td>Bedroom : 6</td>\n",
       "      <td>Bathroom : 5</td>\n",
       "      <td>Living Room :2</td>\n",
       "      <td>Kitchen : 2</td>\n",
       "      <td>Parking :Car 1</td>\n",
       "    </tr>\n",
       "    <tr>\n",
       "      <th>339</th>\n",
       "      <td>Price : 1,55,00,000</td>\n",
       "      <td>Tikathali,Lalitpur</td>\n",
       "      <td>Land area : 3 Aana</td>\n",
       "      <td>No of Flat : 1.5</td>\n",
       "      <td>Bedroom : 2</td>\n",
       "      <td>Bathroom : 1</td>\n",
       "      <td>Living Room :1</td>\n",
       "      <td>Kitchen : 1</td>\n",
       "      <td>Parking :undefined</td>\n",
       "    </tr>\n",
       "  </tbody>\n",
       "</table>\n",
       "</div>"
      ],
      "text/plain": [
       "                     price              location                    land_area  \\\n",
       "304    Price : 2,80,00,000   Pepsicola,Kathmandu   Land area : 2 Aana 2 Paisa   \n",
       "1203   Price : 1,55,00,000    Tikathali,Lalitpur           Land area : 3 Aana   \n",
       "227    Price : 5,00,00,000  Basundhara,Kathmandu           Land area : 5 Aana   \n",
       "912    Price : 3,19,99,999       Imadol,Lalitpur        Land area : 3Ana 2Dam   \n",
       "339    Price : 1,55,00,000    Tikathali,Lalitpur           Land area : 3 Aana   \n",
       "\n",
       "             no_of_flat no_of_bedroom no_of_bathroom no_of_livingroom  \\\n",
       "304    No of Flat : 3.5   Bedroom : 5   Bathroom : 4   Living Room :2   \n",
       "1203   No of Flat : 1.5   Bedroom : 2   Bathroom : 1   Living Room :1   \n",
       "227    No of Flat : 2.5   Bedroom : 5   Bathroom : 4   Living Room :2   \n",
       "912      No of Flat : 3   Bedroom : 6   Bathroom : 5   Living Room :2   \n",
       "339    No of Flat : 1.5   Bedroom : 2   Bathroom : 1   Living Room :1   \n",
       "\n",
       "     no_of_kitchen       no_of_parking  \n",
       "304    Kitchen : 2  Parking :undefined  \n",
       "1203   Kitchen : 1  Parking :undefined  \n",
       "227    Kitchen : 2  Parking :undefined  \n",
       "912    Kitchen : 2      Parking :Car 1  \n",
       "339    Kitchen : 1  Parking :undefined  "
      ]
     },
     "execution_count": 3,
     "metadata": {},
     "output_type": "execute_result"
    }
   ],
   "source": [
    "df_ghargaderi.sample(5)"
   ]
  },
  {
   "cell_type": "code",
   "execution_count": 4,
   "id": "7a174c20-0d90-4780-b6f4-2f092526a102",
   "metadata": {},
   "outputs": [],
   "source": [
    "#Here this scraping method i have added the heading to avoice the improper data ."
   ]
  },
  {
   "cell_type": "code",
   "execution_count": 5,
   "id": "88656899-6156-4b0d-bc4a-eb55abf0e379",
   "metadata": {},
   "outputs": [
    {
     "name": "stdout",
     "output_type": "stream",
     "text": [
      "<class 'pandas.core.frame.DataFrame'>\n",
      "RangeIndex: 1224 entries, 0 to 1223\n",
      "Data columns (total 9 columns):\n",
      " #   Column            Non-Null Count  Dtype \n",
      "---  ------            --------------  ----- \n",
      " 0   price             1224 non-null   object\n",
      " 1   location          1224 non-null   object\n",
      " 2   land_area         1224 non-null   object\n",
      " 3   no_of_flat        1224 non-null   object\n",
      " 4   no_of_bedroom     1224 non-null   object\n",
      " 5   no_of_bathroom    1224 non-null   object\n",
      " 6   no_of_livingroom  1224 non-null   object\n",
      " 7   no_of_kitchen     1224 non-null   object\n",
      " 8   no_of_parking     1224 non-null   object\n",
      "dtypes: object(9)\n",
      "memory usage: 86.2+ KB\n"
     ]
    }
   ],
   "source": [
    "df_ghargaderi.info()"
   ]
  },
  {
   "cell_type": "code",
   "execution_count": 6,
   "id": "26056bda-103b-4676-9bdf-0a430b8c2e15",
   "metadata": {},
   "outputs": [
    {
     "name": "stdout",
     "output_type": "stream",
     "text": [
      "[' Price ']\n",
      "[' Land area ']\n",
      "[' No of Flat ']\n",
      "['Bedroom ']\n",
      "[' Bathroom ']\n",
      "[' Living Room ']\n",
      "[' Kitchen ']\n",
      "['Parking ']\n"
     ]
    }
   ],
   "source": [
    "#Checking the first header!\n",
    "print(df_ghargaderi['price'].str.split(':').str[0].unique())\n",
    "print(df_ghargaderi['land_area'].str.split(':').str[0].unique())\n",
    "print(df_ghargaderi['no_of_flat'].str.split(':').str[0].unique())\n",
    "print(df_ghargaderi['no_of_bedroom'].str.split(':').str[0].unique())\n",
    "print(df_ghargaderi['no_of_bathroom'].str.split(':').str[0].unique())\n",
    "print(df_ghargaderi['no_of_livingroom'].str.split(':').str[0].unique())\n",
    "print(df_ghargaderi['no_of_kitchen'].str.split(':').str[0].unique())\n",
    "print(df_ghargaderi['no_of_parking'].str.split(':').str[0].unique())"
   ]
  },
  {
   "cell_type": "code",
   "execution_count": 7,
   "id": "25432b7a-a930-4b11-8a18-6d32829e93b8",
   "metadata": {},
   "outputs": [],
   "source": [
    "df_ghargaderi['price']=df_ghargaderi['price'].str.split(':').str[1]\n",
    "df_ghargaderi['land_area']=df_ghargaderi['land_area'].str.split(':').str[1]\n",
    "df_ghargaderi['no_of_flat']=df_ghargaderi['no_of_flat'].str.split(':').str[1]\n",
    "df_ghargaderi['no_of_bedroom']=df_ghargaderi['no_of_bedroom'].str.split(':').str[1]\n",
    "df_ghargaderi['no_of_bathroom']=df_ghargaderi['no_of_bathroom'].str.split(':').str[1]\n",
    "df_ghargaderi['no_of_livingroom']=df_ghargaderi['no_of_livingroom'].str.split(':').str[1]\n",
    "df_ghargaderi['no_of_kitchen']=df_ghargaderi['no_of_kitchen'].str.split(':').str[1]\n",
    "df_ghargaderi['no_of_parking']=df_ghargaderi['no_of_parking'].str.split(':').str[1]"
   ]
  },
  {
   "cell_type": "code",
   "execution_count": 8,
   "id": "08b0701d-b17f-404c-bc1c-9bd7c73d829e",
   "metadata": {},
   "outputs": [
    {
     "data": {
      "text/html": [
       "<div>\n",
       "<style scoped>\n",
       "    .dataframe tbody tr th:only-of-type {\n",
       "        vertical-align: middle;\n",
       "    }\n",
       "\n",
       "    .dataframe tbody tr th {\n",
       "        vertical-align: top;\n",
       "    }\n",
       "\n",
       "    .dataframe thead th {\n",
       "        text-align: right;\n",
       "    }\n",
       "</style>\n",
       "<table border=\"1\" class=\"dataframe\">\n",
       "  <thead>\n",
       "    <tr style=\"text-align: right;\">\n",
       "      <th></th>\n",
       "      <th>price</th>\n",
       "      <th>location</th>\n",
       "      <th>land_area</th>\n",
       "      <th>no_of_flat</th>\n",
       "      <th>no_of_bedroom</th>\n",
       "      <th>no_of_bathroom</th>\n",
       "      <th>no_of_livingroom</th>\n",
       "      <th>no_of_kitchen</th>\n",
       "      <th>no_of_parking</th>\n",
       "    </tr>\n",
       "  </thead>\n",
       "  <tbody>\n",
       "    <tr>\n",
       "      <th>0</th>\n",
       "      <td>3,19,99,999</td>\n",
       "      <td>Imadol,Lalitpur</td>\n",
       "      <td>3Ana 2Dam</td>\n",
       "      <td>3</td>\n",
       "      <td>6</td>\n",
       "      <td>5</td>\n",
       "      <td>2</td>\n",
       "      <td>2</td>\n",
       "      <td>Car 1</td>\n",
       "    </tr>\n",
       "    <tr>\n",
       "      <th>1</th>\n",
       "      <td>3,24,99,999</td>\n",
       "      <td>Imadol,Lalitpur</td>\n",
       "      <td>3.25Ana</td>\n",
       "      <td>3</td>\n",
       "      <td>6</td>\n",
       "      <td>4</td>\n",
       "      <td>1</td>\n",
       "      <td>2</td>\n",
       "      <td>Car 1</td>\n",
       "    </tr>\n",
       "    <tr>\n",
       "      <th>2</th>\n",
       "      <td>1,89,00,000</td>\n",
       "      <td>Setipakha,Lalitpur</td>\n",
       "      <td>2.5 Aana</td>\n",
       "      <td>2</td>\n",
       "      <td>4</td>\n",
       "      <td>3</td>\n",
       "      <td>1</td>\n",
       "      <td>1</td>\n",
       "      <td>undefined</td>\n",
       "    </tr>\n",
       "    <tr>\n",
       "      <th>3</th>\n",
       "      <td>1,55,00,000</td>\n",
       "      <td>Tikathali,Lalitpur</td>\n",
       "      <td>3 Aana</td>\n",
       "      <td>1.5</td>\n",
       "      <td>2</td>\n",
       "      <td>1</td>\n",
       "      <td>1</td>\n",
       "      <td>1</td>\n",
       "      <td>undefined</td>\n",
       "    </tr>\n",
       "    <tr>\n",
       "      <th>4</th>\n",
       "      <td>1,55,00,000</td>\n",
       "      <td>Tikathali,Lalitpur</td>\n",
       "      <td>3 Aana</td>\n",
       "      <td>1.5</td>\n",
       "      <td>2</td>\n",
       "      <td>1</td>\n",
       "      <td>1</td>\n",
       "      <td>1</td>\n",
       "      <td>undefined</td>\n",
       "    </tr>\n",
       "    <tr>\n",
       "      <th>5</th>\n",
       "      <td>2,90,00,000</td>\n",
       "      <td>Shital Height,Lalitpur</td>\n",
       "      <td>3 Aana 2 Daam</td>\n",
       "      <td>3.5</td>\n",
       "      <td>5</td>\n",
       "      <td>4</td>\n",
       "      <td>1</td>\n",
       "      <td>2</td>\n",
       "      <td>undefined</td>\n",
       "    </tr>\n",
       "    <tr>\n",
       "      <th>6</th>\n",
       "      <td>3,25,00,000</td>\n",
       "      <td>Imadol,Lalitpur</td>\n",
       "      <td>3 Aana 1 Paisa</td>\n",
       "      <td>4</td>\n",
       "      <td>5</td>\n",
       "      <td>4</td>\n",
       "      <td>1</td>\n",
       "      <td>2</td>\n",
       "      <td>undefined</td>\n",
       "    </tr>\n",
       "    <tr>\n",
       "      <th>7</th>\n",
       "      <td>1,15,00,000</td>\n",
       "      <td>Ward 8 salakpur,Morang</td>\n",
       "      <td>12dhur</td>\n",
       "      <td>2.5</td>\n",
       "      <td>4</td>\n",
       "      <td>2</td>\n",
       "      <td>1</td>\n",
       "      <td>1</td>\n",
       "      <td>Car 1</td>\n",
       "    </tr>\n",
       "    <tr>\n",
       "      <th>8</th>\n",
       "      <td>2,90,00,000</td>\n",
       "      <td>Tikathali,Lalitpur</td>\n",
       "      <td>3 Aana 1 Paisa 1 Daam</td>\n",
       "      <td>3.5</td>\n",
       "      <td>5</td>\n",
       "      <td>4</td>\n",
       "      <td>2</td>\n",
       "      <td>2</td>\n",
       "      <td>undefined</td>\n",
       "    </tr>\n",
       "    <tr>\n",
       "      <th>9</th>\n",
       "      <td>4,00,00,000</td>\n",
       "      <td>Bansbari,Kathmandu</td>\n",
       "      <td>4 Aana</td>\n",
       "      <td>3</td>\n",
       "      <td>6</td>\n",
       "      <td>4</td>\n",
       "      <td>2</td>\n",
       "      <td>2</td>\n",
       "      <td>undefined</td>\n",
       "    </tr>\n",
       "  </tbody>\n",
       "</table>\n",
       "</div>"
      ],
      "text/plain": [
       "          price                location               land_area no_of_flat  \\\n",
       "0   3,19,99,999         Imadol,Lalitpur               3Ana 2Dam          3   \n",
       "1   3,24,99,999         Imadol,Lalitpur                 3.25Ana          3   \n",
       "2   1,89,00,000      Setipakha,Lalitpur                2.5 Aana          2   \n",
       "3   1,55,00,000      Tikathali,Lalitpur                  3 Aana        1.5   \n",
       "4   1,55,00,000      Tikathali,Lalitpur                  3 Aana        1.5   \n",
       "5   2,90,00,000  Shital Height,Lalitpur           3 Aana 2 Daam        3.5   \n",
       "6   3,25,00,000         Imadol,Lalitpur          3 Aana 1 Paisa          4   \n",
       "7   1,15,00,000  Ward 8 salakpur,Morang                  12dhur        2.5   \n",
       "8   2,90,00,000      Tikathali,Lalitpur   3 Aana 1 Paisa 1 Daam        3.5   \n",
       "9   4,00,00,000      Bansbari,Kathmandu                  4 Aana          3   \n",
       "\n",
       "  no_of_bedroom no_of_bathroom no_of_livingroom no_of_kitchen no_of_parking  \n",
       "0             6              5                2             2         Car 1  \n",
       "1             6              4                1             2         Car 1  \n",
       "2             4              3                1             1     undefined  \n",
       "3             2              1                1             1     undefined  \n",
       "4             2              1                1             1     undefined  \n",
       "5             5              4                1             2     undefined  \n",
       "6             5              4                1             2     undefined  \n",
       "7             4              2                1             1         Car 1  \n",
       "8             5              4                2             2     undefined  \n",
       "9             6              4                2             2     undefined  "
      ]
     },
     "execution_count": 8,
     "metadata": {},
     "output_type": "execute_result"
    }
   ],
   "source": [
    "df_ghargaderi.head(10)"
   ]
  },
  {
   "cell_type": "code",
   "execution_count": 9,
   "id": "c6078e24-df29-47c8-82ef-bc976ae067eb",
   "metadata": {},
   "outputs": [],
   "source": [
    "df_ghargaderi['price']=df_ghargaderi['price'].str.split(',').str[0]+df_ghargaderi['price'].str.split(',').str[1]+df_ghargaderi['price'].str.split(',').str[2]+df_ghargaderi['price'].str.split(',').str[3]\n",
    "df_ghargaderi['price']=df_ghargaderi['price'].astype(float)\n",
    "df_ghargaderi['no_of_flat']=df_ghargaderi['no_of_flat'].astype(float)\n",
    "df_ghargaderi['no_of_bedroom']=df_ghargaderi['no_of_bedroom'].astype(float)\n",
    "df_ghargaderi['no_of_livingroom']=df_ghargaderi['no_of_livingroom'].astype(float)\n",
    "df_ghargaderi['no_of_kitchen']=df_ghargaderi['no_of_kitchen'].astype(float)\n",
    "df_ghargaderi['no_of_bathroom']=df_ghargaderi['no_of_bathroom'].astype(float)"
   ]
  },
  {
   "cell_type": "code",
   "execution_count": 10,
   "id": "e9ff36d8-2278-4f6b-8fcd-307100b3f352",
   "metadata": {},
   "outputs": [
    {
     "name": "stdout",
     "output_type": "stream",
     "text": [
      "<class 'pandas.core.frame.DataFrame'>\n",
      "RangeIndex: 1224 entries, 0 to 1223\n",
      "Data columns (total 9 columns):\n",
      " #   Column            Non-Null Count  Dtype  \n",
      "---  ------            --------------  -----  \n",
      " 0   price             1224 non-null   float64\n",
      " 1   location          1224 non-null   object \n",
      " 2   land_area         1224 non-null   object \n",
      " 3   no_of_flat        1224 non-null   float64\n",
      " 4   no_of_bedroom     1224 non-null   float64\n",
      " 5   no_of_bathroom    1224 non-null   float64\n",
      " 6   no_of_livingroom  1224 non-null   float64\n",
      " 7   no_of_kitchen     1224 non-null   float64\n",
      " 8   no_of_parking     1224 non-null   object \n",
      "dtypes: float64(6), object(3)\n",
      "memory usage: 86.2+ KB\n"
     ]
    }
   ],
   "source": [
    "df_ghargaderi.info()"
   ]
  },
  {
   "cell_type": "code",
   "execution_count": 11,
   "id": "e1ad07f7-e220-4689-914a-9c7e355bb5fa",
   "metadata": {},
   "outputs": [
    {
     "data": {
      "text/plain": [
       "no_of_parking\n",
       "undefined     867\n",
       "Car 1         255\n",
       "Motorcycle    102\n",
       "Name: count, dtype: int64"
      ]
     },
     "execution_count": 11,
     "metadata": {},
     "output_type": "execute_result"
    }
   ],
   "source": [
    "df_ghargaderi['no_of_parking'].value_counts()"
   ]
  },
  {
   "cell_type": "code",
   "execution_count": 12,
   "id": "c7947669-0567-450a-b492-bfcc256e98ba",
   "metadata": {},
   "outputs": [],
   "source": [
    "df_ghargaderi['no_of_parking']=df_ghargaderi['no_of_parking'].map({\"undefined\":1,\"Car 1\":2,'Motorcycle':1})"
   ]
  },
  {
   "cell_type": "code",
   "execution_count": 13,
   "id": "47591cfe-0b35-443b-9d3c-fa36c2f61cea",
   "metadata": {},
   "outputs": [],
   "source": [
    "df_ghargaderi.to_csv('preprocessed_ghargaderi.csv',index=False)"
   ]
  },
  {
   "cell_type": "code",
   "execution_count": 14,
   "id": "52f101f0-ac3f-4896-b81a-012db20bae6a",
   "metadata": {},
   "outputs": [
    {
     "data": {
      "text/plain": [
       "array([' 3Ana 2Dam', ' 3.25Ana', ' 2.5 Aana', ' 3 Aana', ' 3 Aana 2 Daam',\n",
       "       ' 3 Aana 1 Paisa', ' 12dhur', ' 3 Aana 1 Paisa 1 Daam', ' 4 Aana',\n",
       "       ' 5 Aana 3 Paisa', ' 5 Aana', ' 4.5 Aana', ' 7.5 Aana',\n",
       "       ' 2 Aana 2 Paisa', ' 3.5 aana', ' 4.2 anna', ' 4 Aana 2 Paisa',\n",
       "       ' 2 Aana 3 Paisa', ' 3 aana', ' 3 Aana 2 Paisa 1 Daam'],\n",
       "      dtype=object)"
      ]
     },
     "execution_count": 14,
     "metadata": {},
     "output_type": "execute_result"
    }
   ],
   "source": [
    "df_ghargaderi['land_area'].unique()"
   ]
  }
 ],
 "metadata": {
  "kernelspec": {
   "display_name": "Python 3 (ipykernel)",
   "language": "python",
   "name": "python3"
  },
  "language_info": {
   "codemirror_mode": {
    "name": "ipython",
    "version": 3
   },
   "file_extension": ".py",
   "mimetype": "text/x-python",
   "name": "python",
   "nbconvert_exporter": "python",
   "pygments_lexer": "ipython3",
   "version": "3.12.6"
  }
 },
 "nbformat": 4,
 "nbformat_minor": 5
}
