{
 "cells": [
  {
   "cell_type": "code",
   "execution_count": 1,
   "id": "9c82b751-bb2b-44c9-8f3d-07f71099e7c5",
   "metadata": {},
   "outputs": [],
   "source": [
    "#Importing libaries\n",
    "import pandas as pd"
   ]
  },
  {
   "cell_type": "code",
   "execution_count": 2,
   "id": "74b70165-c7b2-4619-8762-b103b711e59d",
   "metadata": {},
   "outputs": [
    {
     "data": {
      "text/html": [
       "<div>\n",
       "<style scoped>\n",
       "    .dataframe tbody tr th:only-of-type {\n",
       "        vertical-align: middle;\n",
       "    }\n",
       "\n",
       "    .dataframe tbody tr th {\n",
       "        vertical-align: top;\n",
       "    }\n",
       "\n",
       "    .dataframe thead th {\n",
       "        text-align: right;\n",
       "    }\n",
       "</style>\n",
       "<table border=\"1\" class=\"dataframe\">\n",
       "  <thead>\n",
       "    <tr style=\"text-align: right;\">\n",
       "      <th></th>\n",
       "      <th>price</th>\n",
       "      <th>location</th>\n",
       "      <th>land_size</th>\n",
       "      <th>no_of_flat</th>\n",
       "      <th>no_of_bedroom</th>\n",
       "      <th>no_of_bathroom</th>\n",
       "      <th>furnishing</th>\n",
       "      <th>facing</th>\n",
       "      <th>road_size</th>\n",
       "    </tr>\n",
       "  </thead>\n",
       "  <tbody>\n",
       "    <tr>\n",
       "      <th>0</th>\n",
       "      <td>Rs. 5.5Cr</td>\n",
       "      <td>Dhapakhel, Lalitpur</td>\n",
       "      <td>5.3 aana</td>\n",
       "      <td>3.0</td>\n",
       "      <td>5</td>\n",
       "      <td>3</td>\n",
       "      <td>Full-Furnished</td>\n",
       "      <td>East</td>\n",
       "      <td>20 Feet</td>\n",
       "    </tr>\n",
       "    <tr>\n",
       "      <th>1</th>\n",
       "      <td>Rs. 3Cr</td>\n",
       "      <td>Bhaisepati, Lalitpur</td>\n",
       "      <td>3.2 aana</td>\n",
       "      <td>2.0</td>\n",
       "      <td>4</td>\n",
       "      <td>3</td>\n",
       "      <td>Semi-Furnished</td>\n",
       "      <td>East</td>\n",
       "      <td>16 Feet</td>\n",
       "    </tr>\n",
       "    <tr>\n",
       "      <th>2</th>\n",
       "      <td>Rs. 4Cr</td>\n",
       "      <td>Bhangal , Kathmandu</td>\n",
       "      <td>5.1 aana</td>\n",
       "      <td>2.5</td>\n",
       "      <td>5</td>\n",
       "      <td>4</td>\n",
       "      <td>Semi-Furnished</td>\n",
       "      <td>West</td>\n",
       "      <td>13 Feet</td>\n",
       "    </tr>\n",
       "    <tr>\n",
       "      <th>3</th>\n",
       "      <td>Rs. 6.5Cr</td>\n",
       "      <td>Ganesh Chowk, Kathmandu</td>\n",
       "      <td>5.1 aana</td>\n",
       "      <td>2.5</td>\n",
       "      <td>6</td>\n",
       "      <td>3</td>\n",
       "      <td>Un-Furnished</td>\n",
       "      <td>South</td>\n",
       "      <td>13 Feet</td>\n",
       "    </tr>\n",
       "    <tr>\n",
       "      <th>4</th>\n",
       "      <td>Rs. 5.75Cr</td>\n",
       "      <td>Samakhusi, Kathmandu</td>\n",
       "      <td>7.2 aana</td>\n",
       "      <td>2.5</td>\n",
       "      <td>6</td>\n",
       "      <td>4</td>\n",
       "      <td>Un-Furnished</td>\n",
       "      <td>South</td>\n",
       "      <td>16 Feet</td>\n",
       "    </tr>\n",
       "  </tbody>\n",
       "</table>\n",
       "</div>"
      ],
      "text/plain": [
       "         price                 location land_size  no_of_flat  no_of_bedroom  \\\n",
       "0   Rs. 5.5Cr       Dhapakhel, Lalitpur  5.3 aana         3.0              5   \n",
       "1     Rs. 3Cr      Bhaisepati, Lalitpur  3.2 aana         2.0              4   \n",
       "2     Rs. 4Cr       Bhangal , Kathmandu  5.1 aana         2.5              5   \n",
       "3   Rs. 6.5Cr   Ganesh Chowk, Kathmandu  5.1 aana         2.5              6   \n",
       "4  Rs. 5.75Cr      Samakhusi, Kathmandu  7.2 aana         2.5              6   \n",
       "\n",
       "   no_of_bathroom      furnishing facing road_size  \n",
       "0               3  Full-Furnished   East  20 Feet   \n",
       "1               3  Semi-Furnished   East  16 Feet   \n",
       "2               4  Semi-Furnished   West  13 Feet   \n",
       "3               3    Un-Furnished  South  13 Feet   \n",
       "4               4    Un-Furnished  South  16 Feet   "
      ]
     },
     "execution_count": 2,
     "metadata": {},
     "output_type": "execute_result"
    }
   ],
   "source": [
    "#importinf dataset\n",
    "df_nepal_homes=pd.read_csv('raw_nepal_homes.csv')\n",
    "df_nepal_homes.head()"
   ]
  },
  {
   "cell_type": "code",
   "execution_count": 3,
   "id": "42198d53-86f8-4f06-a70b-a1aa3d442d0e",
   "metadata": {},
   "outputs": [
    {
     "name": "stdout",
     "output_type": "stream",
     "text": [
      "<class 'pandas.core.frame.DataFrame'>\n",
      "RangeIndex: 2530 entries, 0 to 2529\n",
      "Data columns (total 9 columns):\n",
      " #   Column          Non-Null Count  Dtype  \n",
      "---  ------          --------------  -----  \n",
      " 0   price           2530 non-null   object \n",
      " 1   location        2530 non-null   object \n",
      " 2   land_size       2530 non-null   object \n",
      " 3   no_of_flat      2530 non-null   float64\n",
      " 4   no_of_bedroom   2530 non-null   int64  \n",
      " 5   no_of_bathroom  2530 non-null   int64  \n",
      " 6   furnishing      2530 non-null   object \n",
      " 7   facing          2530 non-null   object \n",
      " 8   road_size       2530 non-null   object \n",
      "dtypes: float64(1), int64(2), object(6)\n",
      "memory usage: 178.0+ KB\n"
     ]
    }
   ],
   "source": [
    "df_nepal_homes.info()"
   ]
  },
  {
   "cell_type": "code",
   "execution_count": 4,
   "id": "63e3d68c-78d0-4d21-bb11-98db7ef18a6e",
   "metadata": {},
   "outputs": [
    {
     "data": {
      "text/plain": [
       "price\n",
       "Price on call    197\n",
       "Rs. 3.5Cr         86\n",
       "Rs. 3.25Cr        79\n",
       "Rs. 2.75Cr        63\n",
       "Rs. 2.5Cr         59\n",
       "                ... \n",
       "Rs. 1Cr/aana       1\n",
       "Rs. 7.6Cr          1\n",
       "Rs. 1.6Cr          1\n",
       "Rs. 90Lac          1\n",
       "Rs. 3Cr/aana       1\n",
       "Name: count, Length: 288, dtype: int64"
      ]
     },
     "execution_count": 4,
     "metadata": {},
     "output_type": "execute_result"
    }
   ],
   "source": [
    "df_nepal_homes['price'].value_counts()"
   ]
  },
  {
   "cell_type": "code",
   "execution_count": 5,
   "id": "50a84262-ce67-44d7-a69a-6e56166caea8",
   "metadata": {},
   "outputs": [],
   "source": [
    "df_nepal_homes['price']=df_nepal_homes['price'].apply(lambda x:x.replace(\"Price on call\",\"\"))\n",
    "df_nepal_homes['price']=df_nepal_homes['price'].apply(lambda x:x.replace(\"Rs.\",\"\").split())"
   ]
  },
  {
   "cell_type": "code",
   "execution_count": 15,
   "id": "f7e88e01-38f1-431a-9b93-3ebd9424a9f9",
   "metadata": {},
   "outputs": [
    {
     "data": {
      "text/plain": [
       "0       NaN\n",
       "1       NaN\n",
       "2       NaN\n",
       "3       NaN\n",
       "4       NaN\n",
       "       ... \n",
       "2525    NaN\n",
       "2526    NaN\n",
       "2527    NaN\n",
       "2528    NaN\n",
       "2529    NaN\n",
       "Name: 0, Length: 2530, dtype: object"
      ]
     },
     "execution_count": 15,
     "metadata": {},
     "output_type": "execute_result"
    }
   ],
   "source": [
    "df_nepal_homes['price'].str.extract(r'(\\d+\\.\\d+|\\d+)')[0]"
   ]
  },
  {
   "cell_type": "code",
   "execution_count": null,
   "id": "723627c3-b853-4381-8eb2-50acd4e8f002",
   "metadata": {},
   "outputs": [],
   "source": []
  }
 ],
 "metadata": {
  "kernelspec": {
   "display_name": "Python 3 (ipykernel)",
   "language": "python",
   "name": "python3"
  },
  "language_info": {
   "codemirror_mode": {
    "name": "ipython",
    "version": 3
   },
   "file_extension": ".py",
   "mimetype": "text/x-python",
   "name": "python",
   "nbconvert_exporter": "python",
   "pygments_lexer": "ipython3",
   "version": "3.12.6"
  }
 },
 "nbformat": 4,
 "nbformat_minor": 5
}
